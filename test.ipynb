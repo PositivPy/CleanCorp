{
 "cells": [
  {
   "cell_type": "code",
   "execution_count": 1,
   "metadata": {},
   "outputs": [],
   "source": [
    "import pandas\n",
    "from cleancorp import CleanCorp"
   ]
  },
  {
   "cell_type": "code",
   "execution_count": 2,
   "metadata": {},
   "outputs": [],
   "source": [
    "def clean_business(input_string):\n",
    "    business = CleanCorp(input_string)\n",
    "    \n",
    "    business_industry = business.industry\n",
    "    clean_name = business.clean_name\n",
    "    business_type = business.entity_type\n",
    "    \n",
    "    \n",
    "    return pandas.Series([clean_name, business_type, business_industry])"
   ]
  },
  {
   "cell_type": "code",
   "execution_count": 3,
   "metadata": {},
   "outputs": [
    {
     "data": {
      "text/plain": [
       "0         marine world carriers\n",
       "1              [Public Limited]\n",
       "2    [Transportation & Storage]\n",
       "dtype: object"
      ]
     },
     "execution_count": 3,
     "metadata": {},
     "output_type": "execute_result"
    }
   ],
   "source": [
    "clean_business('MARINE WORLD CARRIERS S. A.')"
   ]
  },
  {
   "cell_type": "markdown",
   "metadata": {},
   "source": [
    "## Gov Data"
   ]
  },
  {
   "cell_type": "code",
   "execution_count": 4,
   "metadata": {},
   "outputs": [
    {
     "name": "stdout",
     "output_type": "stream",
     "text": [
      "Entry Count: 1319\n"
     ]
    }
   ],
   "source": [
    "test_data = pandas.read_csv('tests/test_data.csv', usecols=[0])\n",
    "print('Entry Count:', test_data.shape[0])"
   ]
  },
  {
   "cell_type": "code",
   "execution_count": 5,
   "metadata": {},
   "outputs": [
    {
     "data": {
      "text/html": [
       "<div>\n",
       "<style scoped>\n",
       "    .dataframe tbody tr th:only-of-type {\n",
       "        vertical-align: middle;\n",
       "    }\n",
       "\n",
       "    .dataframe tbody tr th {\n",
       "        vertical-align: top;\n",
       "    }\n",
       "\n",
       "    .dataframe thead th {\n",
       "        text-align: right;\n",
       "    }\n",
       "</style>\n",
       "<table border=\"1\" class=\"dataframe\">\n",
       "  <thead>\n",
       "    <tr style=\"text-align: right;\">\n",
       "      <th></th>\n",
       "      <th>name</th>\n",
       "      <th>clean_name</th>\n",
       "      <th>type</th>\n",
       "      <th>industry</th>\n",
       "    </tr>\n",
       "  </thead>\n",
       "  <tbody>\n",
       "    <tr>\n",
       "      <th>1205</th>\n",
       "      <td>Trade Wind Communications Ltd.</td>\n",
       "      <td>trade wind communications</td>\n",
       "      <td>[Private Limited]</td>\n",
       "      <td>[Wholesale &amp; Retail, Information &amp; Communicati...</td>\n",
       "    </tr>\n",
       "    <tr>\n",
       "      <th>198</th>\n",
       "      <td>BSN Glasspack SAS</td>\n",
       "      <td>bsn glasspack</td>\n",
       "      <td>None</td>\n",
       "      <td>None</td>\n",
       "    </tr>\n",
       "    <tr>\n",
       "      <th>1138</th>\n",
       "      <td>TDK Corp.</td>\n",
       "      <td>tdk</td>\n",
       "      <td>[Corporation]</td>\n",
       "      <td>None</td>\n",
       "    </tr>\n",
       "  </tbody>\n",
       "</table>\n",
       "</div>"
      ],
      "text/plain": [
       "                                name                 clean_name  \\\n",
       "1205  Trade Wind Communications Ltd.  trade wind communications   \n",
       "198                BSN Glasspack SAS              bsn glasspack   \n",
       "1138                       TDK Corp.                        tdk   \n",
       "\n",
       "                   type                                           industry  \n",
       "1205  [Private Limited]  [Wholesale & Retail, Information & Communicati...  \n",
       "198                None                                               None  \n",
       "1138      [Corporation]                                               None  "
      ]
     },
     "execution_count": 5,
     "metadata": {},
     "output_type": "execute_result"
    }
   ],
   "source": [
    "test_data[['clean_name', 'type', 'industry']] = test_data.name.apply(clean_business)\n",
    "test_data.sample(3)"
   ]
  },
  {
   "cell_type": "markdown",
   "metadata": {},
   "source": [
    "### Accuracy:\n",
    "(Entry confirmed as a business)"
   ]
  },
  {
   "cell_type": "code",
   "execution_count": 6,
   "metadata": {},
   "outputs": [
    {
     "data": {
      "text/plain": [
       "97.64973464746019"
      ]
     },
     "execution_count": 6,
     "metadata": {},
     "output_type": "execute_result"
    }
   ],
   "source": [
    "test_data[test_data['type'].notna()].shape[0] / test_data.shape[0] * 100"
   ]
  },
  {
   "cell_type": "markdown",
   "metadata": {},
   "source": [
    "## Panama Data"
   ]
  },
  {
   "cell_type": "code",
   "execution_count": 7,
   "metadata": {},
   "outputs": [
    {
     "name": "stdout",
     "output_type": "stream",
     "text": [
      "Entry Count: 41616\n"
     ]
    }
   ],
   "source": [
    "test_panama = pandas.read_csv('tests/panama_papers.csv')#, usecols=[0])\n",
    "print('Entry Count:', test_panama.shape[0])"
   ]
  },
  {
   "cell_type": "code",
   "execution_count": 8,
   "metadata": {},
   "outputs": [
    {
     "name": "stdout",
     "output_type": "stream",
     "text": [
      "CPU times: user 33.6 s, sys: 553 ms, total: 34.2 s\n",
      "Wall time: 34.1 s\n"
     ]
    }
   ],
   "source": [
    "%%time \n",
    "test_panama[['clean_name', 'type', 'industry']] = test_panama['name'].apply(clean_business)"
   ]
  },
  {
   "cell_type": "code",
   "execution_count": 9,
   "metadata": {},
   "outputs": [
    {
     "data": {
      "text/html": [
       "<div>\n",
       "<style scoped>\n",
       "    .dataframe tbody tr th:only-of-type {\n",
       "        vertical-align: middle;\n",
       "    }\n",
       "\n",
       "    .dataframe tbody tr th {\n",
       "        vertical-align: top;\n",
       "    }\n",
       "\n",
       "    .dataframe thead th {\n",
       "        text-align: right;\n",
       "    }\n",
       "</style>\n",
       "<table border=\"1\" class=\"dataframe\">\n",
       "  <thead>\n",
       "    <tr style=\"text-align: right;\">\n",
       "      <th></th>\n",
       "      <th>name</th>\n",
       "      <th>clean_name</th>\n",
       "      <th>type</th>\n",
       "      <th>industry</th>\n",
       "    </tr>\n",
       "  </thead>\n",
       "  <tbody>\n",
       "    <tr>\n",
       "      <th>3231</th>\n",
       "      <td>CRAWLEY HOLDING GROUP S.A.</td>\n",
       "      <td>crawley holding group</td>\n",
       "      <td>[Public Limited]</td>\n",
       "      <td>[Finance and Insurance]</td>\n",
       "    </tr>\n",
       "    <tr>\n",
       "      <th>36437</th>\n",
       "      <td>THE PANAMERA 24 G PROPERTIES CORP.</td>\n",
       "      <td>the panamera 24 g properties</td>\n",
       "      <td>[Corporation]</td>\n",
       "      <td>[Real estate activities]</td>\n",
       "    </tr>\n",
       "    <tr>\n",
       "      <th>29810</th>\n",
       "      <td>OTAGO INDUSTRIES INC.</td>\n",
       "      <td>otago industries</td>\n",
       "      <td>[Corporation]</td>\n",
       "      <td>[Manufacturing, Extraterritorial organisations]</td>\n",
       "    </tr>\n",
       "  </tbody>\n",
       "</table>\n",
       "</div>"
      ],
      "text/plain": [
       "                                     name                    clean_name  \\\n",
       "3231           CRAWLEY HOLDING GROUP S.A.         crawley holding group   \n",
       "36437  THE PANAMERA 24 G PROPERTIES CORP.  the panamera 24 g properties   \n",
       "29810               OTAGO INDUSTRIES INC.              otago industries   \n",
       "\n",
       "                   type                                         industry  \n",
       "3231   [Public Limited]                          [Finance and Insurance]  \n",
       "36437     [Corporation]                         [Real estate activities]  \n",
       "29810     [Corporation]  [Manufacturing, Extraterritorial organisations]  "
      ]
     },
     "execution_count": 9,
     "metadata": {},
     "output_type": "execute_result"
    }
   ],
   "source": [
    "test_panama.sample(3)"
   ]
  },
  {
   "cell_type": "markdown",
   "metadata": {},
   "source": [
    "### Accuracy:\n",
    "(Entry confirmed as a business)"
   ]
  },
  {
   "cell_type": "code",
   "execution_count": 10,
   "metadata": {},
   "outputs": [
    {
     "data": {
      "text/plain": [
       "99.46174548250673"
      ]
     },
     "execution_count": 10,
     "metadata": {},
     "output_type": "execute_result"
    }
   ],
   "source": [
    "test_panama[test_panama['type'].notna()].shape[0] / test_panama.shape[0] * 100"
   ]
  },
  {
   "cell_type": "markdown",
   "metadata": {},
   "source": [
    "### Detected types:"
   ]
  },
  {
   "cell_type": "code",
   "execution_count": 11,
   "metadata": {},
   "outputs": [
    {
     "data": {
      "text/plain": [
       "type\n",
       "['Corporation']                                         24224\n",
       "['Public Limited']                                      14600\n",
       "['Public Limited', 'Corporation']                         787\n",
       "['Private Limited']                                       585\n",
       "Unknown                                                   460\n",
       "['Private Limited', 'Corporation']                        395\n",
       "['Public Limited', 'Private Limited']                     228\n",
       "None                                                      224\n",
       "['Public Limited', 'Private Limited', 'Corporation']       20\n",
       "['Non-Profit', 'Corporation']                              20\n",
       "dtype: int64"
      ]
     },
     "execution_count": 11,
     "metadata": {},
     "output_type": "execute_result"
    }
   ],
   "source": [
    "test_panama.type = test_panama.type.apply(lambda x: str(x))\n",
    "test_panama.groupby('type').size().sort_values(ascending=False)[:10]"
   ]
  },
  {
   "cell_type": "markdown",
   "metadata": {},
   "source": [
    "### Detected industries:"
   ]
  },
  {
   "cell_type": "code",
   "execution_count": 12,
   "metadata": {},
   "outputs": [
    {
     "data": {
      "text/plain": [
       "industry\n",
       "None                                                           9483\n",
       "['Finance and Insurance']                                      8647\n",
       "['Extraterritorial organisations']                             4676\n",
       "['Unknown']                                                    4032\n",
       "['Scientific & Technical Professions']                         2956\n",
       "['Real estate activities']                                     1995\n",
       "['Wholesale & Retail']                                         1744\n",
       "['Administrative & Support Services']                          1171\n",
       "['Construction']                                                855\n",
       "['Finance and Insurance', 'Extraterritorial organisations']     763\n",
       "dtype: int64"
      ]
     },
     "execution_count": 12,
     "metadata": {},
     "output_type": "execute_result"
    }
   ],
   "source": [
    "test_panama.industry = test_panama.industry.apply(lambda x: str(x))\n",
    "test_panama.groupby('industry').size().sort_values(ascending=False)[:10]"
   ]
  }
 ],
 "metadata": {
  "kernelspec": {
   "display_name": "Python 3.7.5 64-bit",
   "language": "python",
   "name": "python37564bit72ba89a531ef4df18e1af0f065f1e4d6"
  },
  "language_info": {
   "codemirror_mode": {
    "name": "ipython",
    "version": 3
   },
   "file_extension": ".py",
   "mimetype": "text/x-python",
   "name": "python",
   "nbconvert_exporter": "python",
   "pygments_lexer": "ipython3",
   "version": "3.7.5"
  }
 },
 "nbformat": 4,
 "nbformat_minor": 4
}
